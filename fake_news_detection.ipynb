{
  "nbformat": 4,
  "nbformat_minor": 0,
  "metadata": {
    "colab": {
      "name": "fake_news_detection.ipynb",
      "provenance": [],
      "include_colab_link": true
    },
    "kernelspec": {
      "name": "python3",
      "display_name": "Python 3"
    },
    "language_info": {
      "name": "python"
    },
    "accelerator": "GPU"
  },
  "cells": [
    {
      "cell_type": "markdown",
      "metadata": {
        "id": "view-in-github",
        "colab_type": "text"
      },
      "source": [
        "<a href=\"https://colab.research.google.com/github/pintu1803/Fake_News_Detection_Hybrid_cnn-rnn/blob/main/fake_news_detection.ipynb\" target=\"_parent\"><img src=\"https://colab.research.google.com/assets/colab-badge.svg\" alt=\"Open In Colab\"/></a>"
      ]
    },
    {
      "cell_type": "markdown",
      "metadata": {
        "id": "KVKWPl9-6Ver"
      },
      "source": [
        "# Fake News Detection Using Hybrid CNN-RNN model.\n",
        "Team project:\n",
        "1. Pintu (181CO139) \n",
        "2. Akshay Dhayal (181CO105)\n",
        "\n",
        "In the guidance of Dr. M Venkatesan (CSE Prof. @NITK)"
      ]
    },
    {
      "cell_type": "markdown",
      "metadata": {
        "id": "i284Kgvt6jro"
      },
      "source": [
        "Note: Run 1st and 2nd cell first, then comment them out and run all cells."
      ]
    },
    {
      "cell_type": "markdown",
      "metadata": {
        "id": "Pkcz2Lyb6oOi"
      },
      "source": [
        "# Mount Google Drive"
      ]
    },
    {
      "cell_type": "code",
      "metadata": {
        "colab": {
          "base_uri": "https://localhost:8080/"
        },
        "id": "3AWQhFkU6SeS",
        "outputId": "de5b135d-ef48-4047-92e9-a1f436d2f72c"
      },
      "source": [
        "# from google.colab import drive\n",
        "# drive.mount('/content/drive')"
      ],
      "execution_count": null,
      "outputs": [
        {
          "output_type": "stream",
          "text": [
            "Mounted at /content/drive\n"
          ],
          "name": "stdout"
        }
      ]
    },
    {
      "cell_type": "markdown",
      "metadata": {
        "id": "DMJ0n_Bn6zAQ"
      },
      "source": [
        "Download the GloVe: Pretrained word embedding model. It is developed by Standford NLP group. It is faster to compute than Word2Vec. Use: Dimensionality reduction"
      ]
    },
    {
      "cell_type": "code",
      "metadata": {
        "colab": {
          "base_uri": "https://localhost:8080/"
        },
        "id": "fVg20V1X61K5",
        "outputId": "12404f68-cbab-4c31-a729-b06e08ea7041"
      },
      "source": [
        "# !wget http://nlp.stanford.edu/data/glove.6B.zip"
      ],
      "execution_count": null,
      "outputs": [
        {
          "output_type": "stream",
          "text": [
            "--2021-03-22 22:04:14--  http://nlp.stanford.edu/data/glove.6B.zip\n",
            "Resolving nlp.stanford.edu (nlp.stanford.edu)... 171.64.67.140\n",
            "Connecting to nlp.stanford.edu (nlp.stanford.edu)|171.64.67.140|:80... connected.\n",
            "HTTP request sent, awaiting response... 302 Found\n",
            "Location: https://nlp.stanford.edu/data/glove.6B.zip [following]\n",
            "--2021-03-22 22:04:14--  https://nlp.stanford.edu/data/glove.6B.zip\n",
            "Connecting to nlp.stanford.edu (nlp.stanford.edu)|171.64.67.140|:443... connected.\n",
            "HTTP request sent, awaiting response... 301 Moved Permanently\n",
            "Location: http://downloads.cs.stanford.edu/nlp/data/glove.6B.zip [following]\n",
            "--2021-03-22 22:04:15--  http://downloads.cs.stanford.edu/nlp/data/glove.6B.zip\n",
            "Resolving downloads.cs.stanford.edu (downloads.cs.stanford.edu)... 171.64.64.22\n",
            "Connecting to downloads.cs.stanford.edu (downloads.cs.stanford.edu)|171.64.64.22|:80... connected.\n",
            "HTTP request sent, awaiting response... 200 OK\n",
            "Length: 862182613 (822M) [application/zip]\n",
            "Saving to: ‘glove.6B.zip’\n",
            "\n",
            "glove.6B.zip        100%[===================>] 822.24M  5.10MB/s    in 2m 41s  \n",
            "\n",
            "2021-03-22 22:06:56 (5.10 MB/s) - ‘glove.6B.zip’ saved [862182613/862182613]\n",
            "\n"
          ],
          "name": "stdout"
        }
      ]
    },
    {
      "cell_type": "markdown",
      "metadata": {
        "id": "1whhm_AM64b0"
      },
      "source": [
        "# Load and split the data"
      ]
    },
    {
      "cell_type": "code",
      "metadata": {
        "id": "fcX2TaH967p8"
      },
      "source": [
        "#23/03/2021\n",
        "#Pintu \n",
        "from sklearn.model_selection import train_test_split\n",
        "from sklearn.metrics import classification_report,confusion_matrix\n",
        "import pandas as pd\n",
        "\n",
        "train_raw_data=pd.read_csv('/content/drive/MyDrive/fake-news/train.csv')\n",
        "\n",
        "#remove the missing data.\n",
        "train_raw_data=train_raw_data.dropna()\n",
        "\n",
        "x=train_raw_data['text'].values\n",
        "y=train_raw_data['label'].values\n",
        "\n",
        "x_train, x_test, y_train, y_test = train_test_split(x,y,test_size=0.25, random_state=1000)\n"
      ],
      "execution_count": null,
      "outputs": []
    },
    {
      "cell_type": "markdown",
      "metadata": {
        "id": "I11ngXMU7IMd"
      },
      "source": [
        "# Build Vocabulary \n",
        "\n",
        "tokenizer is the object created, of Tokenizer class. \n",
        "num_words=50000, it means we want only 1st 50k words from entire vocabulary to be used.\n",
        "->> tokenizer.fit_on_texts(x_train)\n",
        "action: 1) it collects all words from training data and counts the frequency of each word in that corpus.\n",
        "2) All words are arranged in descending order. ie. most occured word is placed at index=1, 0 is not used as index.\n",
        "3) Indexes are assigned to all unique words, but out of them only 1st 50K will be used.\n",
        "4) This is stored in dictionary=word_index\n",
        "\n",
        "->> x_train = tokenizer.texts_to_sequences(x_train)\n",
        "action: All texts are converted in sequence of integers. Means that the words of text are replaced by their index in the dictionary=word_index.\n",
        "\n",
        "->> x_train = pad_sequences(x_train, padding='post', maxlen=maxlen)\n",
        "action: since all the texts are not of same length.\n",
        "this will make their length equal. if text is shorter than maxlen then it will add 0's at the end (=post padding). if text size > maxlen then it will take only 1st maxlen words."
      ]
    },
    {
      "cell_type": "code",
      "metadata": {
        "colab": {
          "base_uri": "https://localhost:8080/"
        },
        "id": "Q0ChgTMi7MQZ",
        "outputId": "d2c7d7de-c9fb-473b-b975-27ae3dcbe247"
      },
      "source": [
        "from tensorflow.keras.preprocessing.text import Tokenizer                    \n",
        "from tensorflow.keras.preprocessing.sequence import pad_sequences\n",
        "\n",
        "tokenizer = Tokenizer(num_words=150000)\n",
        "tokenizer.fit_on_texts(x_train)\n",
        "\n",
        "#number of unique words in dict.\n",
        "print(\"Number of unique words in dictionary=\",len(tokenizer.word_index))\n",
        "\n",
        "x_train = tokenizer.texts_to_sequences(x_train)\n",
        "x_test = tokenizer.texts_to_sequences(x_test)\n",
        "\n",
        "# Adding 1 because of  reserved 0 index\n",
        "vocab_size = len(tokenizer.word_index) + 1  \n",
        "\n",
        "#size of random text in training set.\n",
        "print(\"Length of random text=\",len(x_train[3]),len(x_train[13]))\n",
        "\n",
        "maxlen = 400\n",
        "\n",
        "x_train = pad_sequences(x_train, padding='post', maxlen=maxlen)\n",
        "x_test = pad_sequences(x_test, padding='post', maxlen=maxlen)"
      ],
      "execution_count": null,
      "outputs": [
        {
          "output_type": "stream",
          "text": [
            "Number of unique words in dictionary= 183144\n",
            "Length of random text= 675 430\n"
          ],
          "name": "stdout"
        }
      ]
    },
    {
      "cell_type": "markdown",
      "metadata": {
        "id": "fFzxK5s67Syf"
      },
      "source": [
        "Confirm that text is converted into vector."
      ]
    },
    {
      "cell_type": "code",
      "metadata": {
        "colab": {
          "base_uri": "https://localhost:8080/"
        },
        "id": "Tv6N9TwX7Twg",
        "outputId": "61da526e-7468-4a64-d697-fd81b21f3c0c"
      },
      "source": [
        "print(type(x_train))\n",
        "for row in x_train:\n",
        "  print(row)\n",
        "  break"
      ],
      "execution_count": null,
      "outputs": [
        {
          "output_type": "stream",
          "text": [
            "<class 'numpy.ndarray'>\n",
            "[    5   728  1405     6   188    87    14    12     1    93 17800   177\n",
            "     1   990     6     5 98358  1653    29 11003 10872     5   174    68\n",
            "     3  2095   104  1698     7    23 10003  2285  2321    16     5  1573\n",
            "  2693  9587   644  2500   523     2   148    44    31   230   482  3138\n",
            "    13  2706    16    68    10    23 10872    17  2500    47  4620 22098\n",
            "    33   404    13    27  1293   926     1    91   739   177    68   122\n",
            "     4  4542  3203     6   705  2491  5843   190  3280  6916 10556    85\n",
            "    46    27    78    20   434     1  1102     2 14871    54  3173    13\n",
            "  5531     7   116 11739    13   250  1453    11     1   119 42937  2454\n",
            "   718     5   232     4   497   185  1553 98359  7606     9     1   168\n",
            "     2  1575    30 11874 98360  4139   838     4  3009     1  6142 36869\n",
            "     1   221  2492 14227    10    95  5362     4  1790 17801     3     5\n",
            " 15578     4    30 12909 10004     1   762     7     1   838    16    30\n",
            " 11874  1021    68     9  3144   252    14     8   553 11595     9     1\n",
            "  2595     3   222    10     6     5  2702   337     9   514   338 39636\n",
            "     5  1735  4652  4435  1987    18 60618  3009     5   748     3     1\n",
            "  1735   609     4     5     7  9197   117    78    28   215     9     5\n",
            "   491    35     5  3536   491    10     1   491     8  1234    16     5\n",
            " 14644   262     9 39636 16156   553   491     7  3282    84   517    10\n",
            "     1  2381 17802    11  2487   175   767   104     4 11004     8 10557\n",
            " 29657    40     5   145   285     3   748    38 11740    17 14872 52663\n",
            "     5  1021    68    19 39636 73366   111     5  1735  4652     8     5\n",
            "  2200 18963     3     5   383   107     5   491  3282    50   517     6\n",
            "     5   134  2416   121    10    23 52663    17     1 60619  1009  7566\n",
            "  2268    11   514     8   376     2    22   166   483  4504 15579  5486\n",
            "     4  8301  9912 73367   338 52664    11  4730     4    45  2225   145\n",
            " 42938   263    15   116  5018     1  2339    35     9     5   219   954\n",
            "    19   274    35     2     1   596    11     1 60620   117  1399  1451\n",
            "    62    40 98361   338  2258   926  4791  5844     1   133   126   486\n",
            "   361 23497   152  1000    32   266    55    68   122  1049     2   755\n",
            "     1   739   948    42    22   706     3    50   367     1   147    32\n",
            "    20   984  2208     2   148     1    89   990  6297   517     9     1\n",
            "    91    78    10    23  5844   278   129  1864     1    68    42    22\n",
            "    45     3    71    10]\n"
          ],
          "name": "stdout"
        }
      ]
    },
    {
      "cell_type": "markdown",
      "metadata": {
        "id": "mqPwMwbf7VjB"
      },
      "source": [
        "# Unzip the zip folder of GloVe\n",
        "\n",
        "We have already downloaded and unzip the file, in previour run. "
      ]
    },
    {
      "cell_type": "code",
      "metadata": {
        "colab": {
          "base_uri": "https://localhost:8080/"
        },
        "id": "0uT0GNJz7hDb",
        "outputId": "db04020e-cfd6-4890-f1c3-ca6a3facee9c"
      },
      "source": [
        "!unzip glove*.zip"
      ],
      "execution_count": null,
      "outputs": [
        {
          "output_type": "stream",
          "text": [
            "Archive:  glove.6B.zip\n",
            "  inflating: glove.6B.50d.txt        \n",
            "  inflating: glove.6B.100d.txt       \n",
            "  inflating: glove.6B.200d.txt       \n",
            "  inflating: glove.6B.300d.txt       \n"
          ],
          "name": "stdout"
        }
      ]
    },
    {
      "cell_type": "markdown",
      "metadata": {
        "id": "f0pdJFHa7r7s"
      },
      "source": [
        "# Create embedding matrix using GloVe\n",
        "\n",
        "Each word of GloVe file is searched in vocabulary=word_index.\n",
        "If word is found then, its index is fetched from vocabulary. Say index = ii\n",
        "The dense vector of that word from GloVe file is taken and put at same index=ii\n",
        "in embedding_matrix.\n",
        "SO, in total we are doing 6B * vocab_size comparasions.\n",
        "\n",
        "embedding_dim=100, it defines the length/size of dense vector.\n",
        "\n",
        "If we take embedding_dim=100, then model will take longer training time."
      ]
    },
    {
      "cell_type": "code",
      "metadata": {
        "id": "37mn8EXe7ylL"
      },
      "source": [
        "import numpy as np\n",
        "\n",
        "def create_embedding_matrix(filepath, word_index, embedding_dim):\n",
        "    vocab_size = len(word_index) + 1  \n",
        "    # Adding again 1 because of reserved 0 index\n",
        "    embedding_matrix = np.zeros((vocab_size, embedding_dim))\n",
        "  \n",
        "    with open(filepath) as f:\n",
        "        for line in f:\n",
        "            word, *vector = line.split()\n",
        "            if word in word_index:\n",
        "                idx = word_index[word] \n",
        "                embedding_matrix[idx] = np.array(vector, dtype=np.float32)[:embedding_dim]\n",
        "\n",
        "    return embedding_matrix\n",
        "\n",
        "embedding_dim = 100\n",
        "embedding_matrix = create_embedding_matrix('/content/glove.6B.100d.txt',\n",
        "                                            tokenizer.word_index,  \n",
        "                                            embedding_dim)"
      ],
      "execution_count": null,
      "outputs": []
    },
    {
      "cell_type": "markdown",
      "metadata": {
        "id": "8tMxRsUp70hD"
      },
      "source": [
        "# Build Hybrid CNN-RNN model\n",
        "\n",
        "1. The first layer of the neural network is the Keras embedding layer. This is the input layer through which the pre-trained word embeddings are utilized by providing the prepared embedding matrix and the model is trained by feeding in the training data\n",
        "\n",
        "2. The next layer is the one-dimensional CNN layer (Conv1D) for extraction of local features by using 128 filters of size 5. The default Rectified Linear Unit (ReLU) activation function is used.\n",
        "\n",
        "3. After that, the large feature vectors generated by CNN are pooled by feeding them in to a MaxPooling1D layer with a window size of 2, in order to down-sample the feature vectors, reduce the amount of parameters, and consequently the computations without affecting the network’s efficiency.\n",
        "\n",
        "4. The pooled feature maps are fed into the RNN (LSTM) layer that follows. This input is used to train the LSTM, which outputs the long-term dependent features of the input feature maps, while retaining a memory. The dimension of the output is set to 32. The default linear activation function (i.e. ) of Keras is used in this layer.\n",
        "\n",
        "5. Finally, the trained feature vectors are classified using a Dense layer that shrinks the output space dimension to 1, which corresponds to the classification label (i.e. fake or not fake). This layer applies the Sigmoid activation function.\n",
        "\n",
        "The model is trained using the adaptive moment estimation (Adam) optimizer to define the learning rate in each iteration, the binary cross-entropy as the loss function, and the accuracy for the evaluation of results. The training is performed for 10 epochs using a batch size of 64."
      ]
    },
    {
      "cell_type": "code",
      "metadata": {
        "id": "ZXYTZFIA7764"
      },
      "source": [
        "from tensorflow.keras.models import Sequential\n",
        "from tensorflow.keras import layers\n",
        "embedding_dim = 100\n",
        "\n",
        "model = Sequential()\n",
        "model.add(layers.Embedding(vocab_size, embedding_dim, weights=[embedding_matrix], input_length=maxlen, trainable=True))\n",
        "model.add(layers.Conv1D(128, 5, activation='relu'))\n",
        "model.add(layers.MaxPooling1D(2))\n",
        "model.add(layers.LSTM(32))\n",
        "model.add(layers.Dense(1, activation='sigmoid'))\n",
        "model.compile(optimizer='adam',\n",
        "              loss='binary_crossentropy',\n",
        "              metrics=['accuracy'])"
      ],
      "execution_count": null,
      "outputs": []
    },
    {
      "cell_type": "markdown",
      "metadata": {
        "id": "VAfthIsk7_pZ"
      },
      "source": [
        "# 1st RUN with embedding_dim=100 & batch_size=64"
      ]
    },
    {
      "cell_type": "code",
      "metadata": {
        "colab": {
          "base_uri": "https://localhost:8080/"
        },
        "id": "jed2d5aX8BCU",
        "outputId": "05adc447-017f-4559-a8b9-99a88e6d757a"
      },
      "source": [
        "history = model.fit(x_train, y_train,\n",
        "                    epochs=10,\n",
        "                    validation_data=(x_test, y_test),\n",
        "                    batch_size=64)\n",
        "model.summary()"
      ],
      "execution_count": null,
      "outputs": [
        {
          "output_type": "stream",
          "text": [
            "Epoch 1/10\n",
            "215/215 [==============================] - 122s 554ms/step - loss: 0.5496 - accuracy: 0.7023 - val_loss: 0.4011 - val_accuracy: 0.8187\n",
            "Epoch 2/10\n",
            "215/215 [==============================] - 121s 564ms/step - loss: 0.3412 - accuracy: 0.8458 - val_loss: 0.2972 - val_accuracy: 0.8749\n",
            "Epoch 3/10\n",
            "215/215 [==============================] - 119s 555ms/step - loss: 0.2375 - accuracy: 0.9205 - val_loss: 0.1936 - val_accuracy: 0.9370\n",
            "Epoch 4/10\n",
            "215/215 [==============================] - 119s 552ms/step - loss: 0.1396 - accuracy: 0.9553 - val_loss: 0.2073 - val_accuracy: 0.9180\n",
            "Epoch 5/10\n",
            "215/215 [==============================] - 118s 550ms/step - loss: 0.1313 - accuracy: 0.9508 - val_loss: 0.2228 - val_accuracy: 0.9160\n",
            "Epoch 6/10\n",
            "215/215 [==============================] - 118s 549ms/step - loss: 0.1141 - accuracy: 0.9667 - val_loss: 0.1780 - val_accuracy: 0.9490\n",
            "Epoch 7/10\n",
            "215/215 [==============================] - 120s 560ms/step - loss: 0.0704 - accuracy: 0.9795 - val_loss: 0.1694 - val_accuracy: 0.9528\n",
            "Epoch 8/10\n",
            "215/215 [==============================] - 118s 550ms/step - loss: 0.1267 - accuracy: 0.9557 - val_loss: 0.1672 - val_accuracy: 0.9451\n",
            "Epoch 9/10\n",
            "215/215 [==============================] - 118s 549ms/step - loss: 0.0559 - accuracy: 0.9850 - val_loss: 0.2113 - val_accuracy: 0.9342\n",
            "Epoch 10/10\n",
            "215/215 [==============================] - 118s 550ms/step - loss: 0.0630 - accuracy: 0.9810 - val_loss: 0.1636 - val_accuracy: 0.9549\n",
            "Model: \"sequential\"\n",
            "_________________________________________________________________\n",
            "Layer (type)                 Output Shape              Param #   \n",
            "=================================================================\n",
            "embedding (Embedding)        (None, 400, 100)          18314500  \n",
            "_________________________________________________________________\n",
            "conv1d (Conv1D)              (None, 396, 128)          64128     \n",
            "_________________________________________________________________\n",
            "max_pooling1d (MaxPooling1D) (None, 198, 128)          0         \n",
            "_________________________________________________________________\n",
            "lstm (LSTM)                  (None, 32)                20608     \n",
            "_________________________________________________________________\n",
            "dense (Dense)                (None, 1)                 33        \n",
            "=================================================================\n",
            "Total params: 18,399,269\n",
            "Trainable params: 18,399,269\n",
            "Non-trainable params: 0\n",
            "_________________________________________________________________\n"
          ],
          "name": "stdout"
        }
      ]
    },
    {
      "cell_type": "markdown",
      "metadata": {
        "id": "6OWV3Ttl8DG4"
      },
      "source": [
        "# Evaluate the model\n",
        "\n",
        "acc=training accuracy and val_acc=validation accuracy\n",
        "similarly for loss."
      ]
    },
    {
      "cell_type": "code",
      "metadata": {
        "colab": {
          "base_uri": "https://localhost:8080/"
        },
        "id": "0d5deO4H8JjI",
        "outputId": "00842752-3325-4771-b77f-9d7bcb8b649b"
      },
      "source": [
        "val_loss, val_acc=model.evaluate(x_test, y_test)"
      ],
      "execution_count": null,
      "outputs": [
        {
          "output_type": "stream",
          "text": [
            "143/143 [==============================] - 8s 53ms/step - loss: 0.1636 - accuracy: 0.9549\n"
          ],
          "name": "stdout"
        }
      ]
    },
    {
      "cell_type": "markdown",
      "metadata": {
        "id": "EmDi2_-l8M88"
      },
      "source": [
        "# Prediction and performance measure of model"
      ]
    },
    {
      "cell_type": "code",
      "metadata": {
        "colab": {
          "base_uri": "https://localhost:8080/"
        },
        "id": "0BvvrD728Pmk",
        "outputId": "ded74374-fea4-42ea-ddae-5e0e7e6c0568"
      },
      "source": [
        "from math import floor\n",
        "from sklearn.metrics import classification_report, confusion_matrix\n",
        "def performance(x_test, y_test):\n",
        "  y_pred=model.predict(x_test)\n",
        "  # print(y_pred[0])\n",
        "  y_pred=[1 if x>=0.5 else 0 for x in y_pred]\n",
        "  # print(y_pred[0])\n",
        "  cm=confusion_matrix(y_test, y_pred)\n",
        "  cr=classification_report(y_test, y_pred)\n",
        "\n",
        "  print(\"Confusion matrix=\\n\",cm)\n",
        "  print(\"Classification report=\\n\",cr)\n",
        "\n",
        "#call the performance measure function\n",
        "performance(x_test, y_test)"
      ],
      "execution_count": null,
      "outputs": [
        {
          "output_type": "stream",
          "text": [
            "Confusion matrix=\n",
            " [[2509   56]\n",
            " [ 150 1857]]\n",
            "Classification report=\n",
            "               precision    recall  f1-score   support\n",
            "\n",
            "           0       0.94      0.98      0.96      2565\n",
            "           1       0.97      0.93      0.95      2007\n",
            "\n",
            "    accuracy                           0.95      4572\n",
            "   macro avg       0.96      0.95      0.95      4572\n",
            "weighted avg       0.96      0.95      0.95      4572\n",
            "\n"
          ],
          "name": "stdout"
        }
      ]
    },
    {
      "cell_type": "markdown",
      "metadata": {
        "id": "2xkxihLc8b3P"
      },
      "source": [
        "It took approx. 1200 seconds or 20 minutes to run the 10 epochs.\n",
        "\n",
        "Note that if you rerun the .fit() method, you’ll start off with the computed weights from the previous training. Make sure to call clear_session() before you start training the model again:"
      ]
    },
    {
      "cell_type": "code",
      "metadata": {
        "id": "i8G1QzSo8i6y"
      },
      "source": [
        "# from keras.backend import clear_session\n",
        "# clear_session()"
      ],
      "execution_count": null,
      "outputs": []
    },
    {
      "cell_type": "markdown",
      "metadata": {
        "id": "KtG8TcxB8jeD"
      },
      "source": [
        "Visualize the loss and accuracy for the training and testing data based on the History callback."
      ]
    },
    {
      "cell_type": "code",
      "metadata": {
        "colab": {
          "base_uri": "https://localhost:8080/",
          "height": 337
        },
        "id": "oW7EBq6J8mUw",
        "outputId": "1e2b9108-1e6d-4b8d-b076-4d1c16f87a58"
      },
      "source": [
        "import matplotlib.pyplot as plt\n",
        "plt.style.use('ggplot')\n",
        "\n",
        "def plot_history(history):\n",
        "    acc = history.history['accuracy']\n",
        "    val_acc = history.history['val_accuracy']\n",
        "    loss = history.history['loss']\n",
        "    val_loss = history.history['val_loss']\n",
        "    x = range(1, len(acc) + 1)\n",
        "\n",
        "    plt.figure(figsize=(12, 5))\n",
        "    plt.subplot(1, 2, 1)\n",
        "    plt.plot(x, acc, 'b', label='Training acc')\n",
        "    plt.plot(x, val_acc, 'r', label='Validation acc')\n",
        "    plt.title('Training and validation accuracy')\n",
        "    plt.legend()\n",
        "    plt.subplot(1, 2, 2)\n",
        "    plt.plot(x, loss, 'b', label='Training loss')\n",
        "    plt.plot(x, val_loss, 'r', label='Validation loss')\n",
        "    plt.title('Training and validation loss')\n",
        "    plt.legend()\n",
        "\n",
        "\n",
        "#call the function using history\n",
        "plot_history(history)"
      ],
      "execution_count": null,
      "outputs": [
        {
          "output_type": "display_data",
          "data": {
            "image/png": "[encoded data removed]",
            "text/plain": [
              "<Figure size 864x360 with 2 Axes>"
            ]
          },
          "metadata": {
            "tags": []
          }
        }
      ]
    },
    {
      "cell_type": "markdown",
      "metadata": {
        "id": "YBBZy_bk8rAU"
      },
      "source": [
        "WE can see that we have trained our model for too long since the training set reached 100% accuracy. A good way to see when the model starts overfitting is when the loss of the validation data starts rising again. This tends to be a good point to stop the model. You can see this around 20-40 epochs in this training.\n",
        "\n",
        "Note: When training neural networks, you should use a separate testing and validation set. What you would usually do is take the model with the highest validation accuracy and then test the model with the testing set."
      ]
    },
    {
      "cell_type": "markdown",
      "metadata": {
        "id": "QD_UxZGG8vD6"
      },
      "source": [
        "# 2nd RUN with embedding_dim=100 & batch_size=128"
      ]
    },
    {
      "cell_type": "code",
      "metadata": {
        "colab": {
          "base_uri": "https://localhost:8080/",
          "height": 942
        },
        "id": "4wqRDLQa8wdD",
        "outputId": "7fbc00d6-d85c-4382-d2d3-c9f4fa096f3b"
      },
      "source": [
        "from keras.backend import clear_session\n",
        "clear_session()\n",
        "\n",
        "history = model.fit(x_train, y_train,\n",
        "                    epochs=10,\n",
        "                    validation_data=(x_test, y_test),\n",
        "                    batch_size=128)\n",
        "\n",
        "val_loss, val_acc=model.evaluate(x_test, y_test)\n",
        "\n",
        "loss, accuracy = model.evaluate(x_train, y_train, verbose=False)\n",
        "print(\"Training Accuracy: {:.4f}\".format(accuracy))#overfitting.\n",
        "loss, accuracy = model.evaluate(x_test, y_test, verbose=False)\n",
        "print(\"Testing Accuracy:  {:.4f}\".format(accuracy))#actual accuracy\n",
        "\n",
        "performance(x_test, y_test)\n",
        "\n",
        "#call the function using history\n",
        "plot_history(history)"
      ],
      "execution_count": null,
      "outputs": [
        {
          "output_type": "stream",
          "text": [
            "Epoch 1/10\n",
            "108/108 [==============================] - 92s 856ms/step - loss: 0.0293 - accuracy: 0.9930 - val_loss: 0.1532 - val_accuracy: 0.9573\n",
            "Epoch 2/10\n",
            "108/108 [==============================] - 94s 871ms/step - loss: 0.0228 - accuracy: 0.9954 - val_loss: 0.1791 - val_accuracy: 0.9532\n",
            "Epoch 3/10\n",
            "108/108 [==============================] - 93s 859ms/step - loss: 0.0254 - accuracy: 0.9942 - val_loss: 0.1694 - val_accuracy: 0.9571\n",
            "Epoch 4/10\n",
            "108/108 [==============================] - 92s 857ms/step - loss: 0.0287 - accuracy: 0.9926 - val_loss: 0.1499 - val_accuracy: 0.9576\n",
            "Epoch 5/10\n",
            "108/108 [==============================] - 92s 857ms/step - loss: 0.0153 - accuracy: 0.9972 - val_loss: 0.1631 - val_accuracy: 0.9576\n",
            "Epoch 6/10\n",
            "108/108 [==============================] - 92s 857ms/step - loss: 0.0136 - accuracy: 0.9972 - val_loss: 0.1699 - val_accuracy: 0.9600\n",
            "Epoch 7/10\n",
            "108/108 [==============================] - 93s 857ms/step - loss: 0.0100 - accuracy: 0.9985 - val_loss: 0.1765 - val_accuracy: 0.9617\n",
            "Epoch 8/10\n",
            "108/108 [==============================] - 92s 856ms/step - loss: 0.0097 - accuracy: 0.9985 - val_loss: 0.1811 - val_accuracy: 0.9624\n",
            "Epoch 9/10\n",
            "108/108 [==============================] - 93s 857ms/step - loss: 0.0087 - accuracy: 0.9987 - val_loss: 0.1850 - val_accuracy: 0.9617\n",
            "Epoch 10/10\n",
            "108/108 [==============================] - 92s 855ms/step - loss: 0.0085 - accuracy: 0.9987 - val_loss: 0.1887 - val_accuracy: 0.9611\n",
            "143/143 [==============================] - 8s 52ms/step - loss: 0.1887 - accuracy: 0.9611\n",
            "Training Accuracy: 0.9988\n",
            "Testing Accuracy:  0.9611\n",
            "Confusion matrix=\n",
            " [[2484   81]\n",
            " [  97 1910]]\n",
            "Classification report=\n",
            "               precision    recall  f1-score   support\n",
            "\n",
            "           0       0.96      0.97      0.97      2565\n",
            "           1       0.96      0.95      0.96      2007\n",
            "\n",
            "    accuracy                           0.96      4572\n",
            "   macro avg       0.96      0.96      0.96      4572\n",
            "weighted avg       0.96      0.96      0.96      4572\n",
            "\n"
          ],
          "name": "stdout"
        },
        {
          "output_type": "display_data",
          "data": {
            "image/png": "[encoded data removed]",
            "text/plain": [
              "<Figure size 864x360 with 2 Axes>"
            ]
          },
          "metadata": {
            "tags": []
          }
        }
      ]
    },
    {
      "cell_type": "markdown",
      "metadata": {
        "id": "DcdfnzCU9D27"
      },
      "source": [
        "# 3rd RUN & new model with embedding_dim=50, batch_size=64"
      ]
    },
    {
      "cell_type": "code",
      "metadata": {
        "colab": {
          "base_uri": "https://localhost:8080/",
          "height": 942
        },
        "id": "xf1-t4vZ9Ehx",
        "outputId": "07848113-80f3-42c0-8744-6e68cebcb90c"
      },
      "source": [
        "clear_session()\n",
        "\n",
        "embedding_dim = 50\n",
        "#build embedding matrix.\n",
        "embedding_matrix = create_embedding_matrix('/content/glove.6B.50d.txt',\n",
        "                                            tokenizer.word_index,  \n",
        "                                            embedding_dim)\n",
        "\n",
        "#buidl the hybrid cnn-rnn model.\n",
        "model_1 = Sequential()\n",
        "model_1.add(layers.Embedding(vocab_size, embedding_dim, weights=[embedding_matrix], input_length=maxlen, trainable=True))\n",
        "model_1.add(layers.Conv1D(128, 5, activation='relu'))\n",
        "model_1.add(layers.MaxPooling1D(2))\n",
        "model_1.add(layers.LSTM(32))\n",
        "model_1.add(layers.Dense(1, activation='sigmoid'))\n",
        "model_1.compile(optimizer='adam',\n",
        "              loss='binary_crossentropy',\n",
        "              metrics=['accuracy'])\n",
        "\n",
        "#train the model.\n",
        "history_1 = model_1.fit(x_train, y_train,\n",
        "                    epochs=10,\n",
        "                    validation_data=(x_test, y_test),\n",
        "                    batch_size=64)\n",
        "\n",
        "#test the model.\n",
        "val_loss, val_acc=model_1.evaluate(x_test, y_test)\n",
        "\n",
        "loss, accuracy = model_1.evaluate(x_train, y_train, verbose=False)\n",
        "print(\"Training Accuracy: {:.4f}\".format(accuracy))#overfitting.\n",
        "loss, accuracy = model_1.evaluate(x_test, y_test, verbose=False)\n",
        "print(\"Testing Accuracy:  {:.4f}\".format(accuracy))#actual accuracy\n",
        "\n",
        "#confusion matrix and classification report.\n",
        "performance(x_test, y_test)\n",
        "\n",
        "#call the function using history\n",
        "plot_history(history_1)"
      ],
      "execution_count": null,
      "outputs": [
        {
          "output_type": "stream",
          "text": [
            "Epoch 1/10\n",
            "215/215 [==============================] - 79s 359ms/step - loss: 0.5497 - accuracy: 0.7057 - val_loss: 0.3258 - val_accuracy: 0.8685\n",
            "Epoch 2/10\n",
            "215/215 [==============================] - 77s 359ms/step - loss: 0.3072 - accuracy: 0.8617 - val_loss: 0.2645 - val_accuracy: 0.8957\n",
            "Epoch 3/10\n",
            "215/215 [==============================] - 77s 358ms/step - loss: 0.2116 - accuracy: 0.9198 - val_loss: 0.2048 - val_accuracy: 0.9254\n",
            "Epoch 4/10\n",
            "215/215 [==============================] - 77s 359ms/step - loss: 0.1284 - accuracy: 0.9571 - val_loss: 0.2267 - val_accuracy: 0.9101\n",
            "Epoch 5/10\n",
            "215/215 [==============================] - 79s 369ms/step - loss: 0.2458 - accuracy: 0.9034 - val_loss: 0.1894 - val_accuracy: 0.9342\n",
            "Epoch 6/10\n",
            "215/215 [==============================] - 78s 361ms/step - loss: 0.1078 - accuracy: 0.9715 - val_loss: 0.1818 - val_accuracy: 0.9407\n",
            "Epoch 7/10\n",
            "215/215 [==============================] - 77s 359ms/step - loss: 0.0646 - accuracy: 0.9835 - val_loss: 0.1473 - val_accuracy: 0.9477\n",
            "Epoch 8/10\n",
            "215/215 [==============================] - 77s 358ms/step - loss: 0.0406 - accuracy: 0.9902 - val_loss: 0.1654 - val_accuracy: 0.9434\n",
            "Epoch 9/10\n",
            "215/215 [==============================] - 77s 359ms/step - loss: 0.0275 - accuracy: 0.9940 - val_loss: 0.1639 - val_accuracy: 0.9512\n",
            "Epoch 10/10\n",
            "215/215 [==============================] - 77s 358ms/step - loss: 0.0204 - accuracy: 0.9958 - val_loss: 0.1677 - val_accuracy: 0.9501\n",
            "143/143 [==============================] - 5s 37ms/step - loss: 0.1677 - accuracy: 0.9501\n",
            "Training Accuracy: 0.9971\n",
            "Testing Accuracy:  0.9501\n",
            "Confusion matrix=\n",
            " [[2484   81]\n",
            " [  97 1910]]\n",
            "Classification report=\n",
            "               precision    recall  f1-score   support\n",
            "\n",
            "           0       0.96      0.97      0.97      2565\n",
            "           1       0.96      0.95      0.96      2007\n",
            "\n",
            "    accuracy                           0.96      4572\n",
            "   macro avg       0.96      0.96      0.96      4572\n",
            "weighted avg       0.96      0.96      0.96      4572\n",
            "\n"
          ],
          "name": "stdout"
        },
        {
          "output_type": "display_data",
          "data": {
            "image/png": "[encoded data removed]",
            "text/plain": [
              "<Figure size 864x360 with 2 Axes>"
            ]
          },
          "metadata": {
            "tags": []
          }
        }
      ]
    },
    {
      "cell_type": "markdown",
      "metadata": {
        "id": "Bd6QdVI_9Oki"
      },
      "source": [
        "######################__A MODEL CREATED BY PINTU (181CO139) AND AKSHAY DHAYAL (181CO105) __####################"
      ]
    }
  ]
}